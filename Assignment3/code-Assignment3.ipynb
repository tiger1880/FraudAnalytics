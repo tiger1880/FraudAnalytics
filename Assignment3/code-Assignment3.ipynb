{
 "cells": [
  {
   "cell_type": "markdown",
   "id": "93db9921-4598-46bb-988c-d070cdb5f9ac",
   "metadata": {},
   "source": [
    "## Assignment 3"
   ]
  },
  {
   "cell_type": "markdown",
   "id": "293a8a3c-48b6-4f9d-9923-ca563f3c9a53",
   "metadata": {},
   "source": [
    "#### Akshay Santoshi - CS21BTECH11012\n",
    "#### Nitya Bhamidipaty - CS21BTECH11041 "
   ]
  },
  {
   "cell_type": "code",
   "execution_count": 1,
   "id": "ec89f0f4-c3c9-439f-80b1-13ca4a39a608",
   "metadata": {},
   "outputs": [],
   "source": [
    "import numpy as np\n",
    "import pandas as pd\n",
    "import matplotlib.pyplot as plt\n",
    "import seaborn as sns\n",
    "import torch\n",
    "import torch.nn as nn\n",
    "import torch.optim as optim\n",
    "from sklearn.cluster import KMeans\n",
    "from sklearn.preprocessing import StandardScaler\n",
    "from scipy.spatial.distance import cdist"
   ]
  },
  {
   "cell_type": "code",
   "execution_count": 2,
   "id": "4f5be68a-7dc2-4b11-8685-ed304a3f0fab",
   "metadata": {},
   "outputs": [
    {
     "data": {
      "text/html": [
       "<div>\n",
       "<style scoped>\n",
       "    .dataframe tbody tr th:only-of-type {\n",
       "        vertical-align: middle;\n",
       "    }\n",
       "\n",
       "    .dataframe tbody tr th {\n",
       "        vertical-align: top;\n",
       "    }\n",
       "\n",
       "    .dataframe thead th {\n",
       "        text-align: right;\n",
       "    }\n",
       "</style>\n",
       "<table border=\"1\" class=\"dataframe\">\n",
       "  <thead>\n",
       "    <tr style=\"text-align: right;\">\n",
       "      <th></th>\n",
       "      <th>cov1</th>\n",
       "      <th>cov2</th>\n",
       "      <th>cov3</th>\n",
       "      <th>cov4</th>\n",
       "      <th>cov5</th>\n",
       "      <th>cov6</th>\n",
       "      <th>cov7</th>\n",
       "      <th>sal_pur_rat</th>\n",
       "      <th>igst_itc_tot_itc_rat</th>\n",
       "      <th>lib_igst_itc_rat</th>\n",
       "    </tr>\n",
       "  </thead>\n",
       "  <tbody>\n",
       "    <tr>\n",
       "      <th>0</th>\n",
       "      <td>0.997797</td>\n",
       "      <td>0.999888</td>\n",
       "      <td>0.215934</td>\n",
       "      <td>0.196713</td>\n",
       "      <td>0.000000</td>\n",
       "      <td>0.955616</td>\n",
       "      <td>0.998810</td>\n",
       "      <td>-0.032581</td>\n",
       "      <td>1.761759</td>\n",
       "      <td>-0.054329</td>\n",
       "    </tr>\n",
       "    <tr>\n",
       "      <th>1</th>\n",
       "      <td>0.994004</td>\n",
       "      <td>0.979902</td>\n",
       "      <td>-0.337135</td>\n",
       "      <td>-0.248634</td>\n",
       "      <td>0.000000</td>\n",
       "      <td>0.640812</td>\n",
       "      <td>0.553918</td>\n",
       "      <td>-0.032026</td>\n",
       "      <td>-0.629311</td>\n",
       "      <td>-0.053516</td>\n",
       "    </tr>\n",
       "    <tr>\n",
       "      <th>2</th>\n",
       "      <td>0.947603</td>\n",
       "      <td>0.455667</td>\n",
       "      <td>0.001743</td>\n",
       "      <td>0.128610</td>\n",
       "      <td>-0.004054</td>\n",
       "      <td>-0.162069</td>\n",
       "      <td>0.960601</td>\n",
       "      <td>-0.030209</td>\n",
       "      <td>1.535697</td>\n",
       "      <td>-0.054215</td>\n",
       "    </tr>\n",
       "    <tr>\n",
       "      <th>3</th>\n",
       "      <td>0.396577</td>\n",
       "      <td>0.919933</td>\n",
       "      <td>0.496451</td>\n",
       "      <td>0.576824</td>\n",
       "      <td>-0.340718</td>\n",
       "      <td>0.802363</td>\n",
       "      <td>0.673710</td>\n",
       "      <td>-0.032058</td>\n",
       "      <td>0.449160</td>\n",
       "      <td>-0.054126</td>\n",
       "    </tr>\n",
       "    <tr>\n",
       "      <th>4</th>\n",
       "      <td>0.999893</td>\n",
       "      <td>0.327615</td>\n",
       "      <td>0.700477</td>\n",
       "      <td>0.315601</td>\n",
       "      <td>0.000000</td>\n",
       "      <td>0.300785</td>\n",
       "      <td>0.979009</td>\n",
       "      <td>-0.032224</td>\n",
       "      <td>1.762049</td>\n",
       "      <td>-0.054330</td>\n",
       "    </tr>\n",
       "  </tbody>\n",
       "</table>\n",
       "</div>"
      ],
      "text/plain": [
       "       cov1      cov2      cov3      cov4      cov5      cov6      cov7  \\\n",
       "0  0.997797  0.999888  0.215934  0.196713  0.000000  0.955616  0.998810   \n",
       "1  0.994004  0.979902 -0.337135 -0.248634  0.000000  0.640812  0.553918   \n",
       "2  0.947603  0.455667  0.001743  0.128610 -0.004054 -0.162069  0.960601   \n",
       "3  0.396577  0.919933  0.496451  0.576824 -0.340718  0.802363  0.673710   \n",
       "4  0.999893  0.327615  0.700477  0.315601  0.000000  0.300785  0.979009   \n",
       "\n",
       "   sal_pur_rat  igst_itc_tot_itc_rat  lib_igst_itc_rat  \n",
       "0    -0.032581              1.761759         -0.054329  \n",
       "1    -0.032026             -0.629311         -0.053516  \n",
       "2    -0.030209              1.535697         -0.054215  \n",
       "3    -0.032058              0.449160         -0.054126  \n",
       "4    -0.032224              1.762049         -0.054330  "
      ]
     },
     "execution_count": 2,
     "metadata": {},
     "output_type": "execute_result"
    }
   ],
   "source": [
    "df = pd.read_csv(\"data.csv\")\n",
    "df.head()"
   ]
  },
  {
   "cell_type": "code",
   "execution_count": 3,
   "id": "603f5dd9-5ec2-425d-bb7d-04d983fde4b7",
   "metadata": {},
   "outputs": [],
   "source": [
    "scaler = StandardScaler()\n",
    "data_scaled = scaler.fit_transform(df)"
   ]
  },
  {
   "cell_type": "code",
   "execution_count": 4,
   "id": "198d0173-7fe0-475b-8682-201080525496",
   "metadata": {},
   "outputs": [],
   "source": [
    "# VAE Model\n",
    "class VAE(nn.Module):\n",
    "    def __init__(self, input_dim, latent_dim):\n",
    "        super(VAE, self).__init__()\n",
    "        self.encoder = nn.Sequential(\n",
    "            nn.Linear(input_dim, 64),\n",
    "            nn.LeakyReLU(0.2),\n",
    "            nn.BatchNorm1d(64),\n",
    "            nn.Linear(64, 32),\n",
    "            nn.LeakyReLU(0.2),\n",
    "            nn.BatchNorm1d(32),\n",
    "            nn.Linear(32, 16),\n",
    "            nn.LeakyReLU(0.2),\n",
    "            nn.BatchNorm1d(16)\n",
    "        )\n",
    "        self.mu = nn.Linear(16, latent_dim)\n",
    "        self.log_var = nn.Linear(16, latent_dim)\n",
    "        \n",
    "        self.decoder = nn.Sequential(\n",
    "            nn.Linear(latent_dim, 16),\n",
    "            nn.LeakyReLU(0.2),\n",
    "            nn.BatchNorm1d(16),\n",
    "            nn.Linear(16, 32),\n",
    "            nn.LeakyReLU(0.2),\n",
    "            nn.BatchNorm1d(32),\n",
    "            nn.Linear(32, 64),\n",
    "            nn.LeakyReLU(0.2),\n",
    "            nn.BatchNorm1d(64),\n",
    "            nn.Linear(64, input_dim)\n",
    "        )\n",
    "    \n",
    "    def reparameterize(self, mu, log_var):\n",
    "        std = torch.exp(0.5 * log_var)\n",
    "        eps = torch.randn_like(std)\n",
    "        return mu + eps * std\n",
    "    \n",
    "    def forward(self, x):\n",
    "        enc = self.encoder(x)\n",
    "        mu, log_var = self.mu(enc), self.log_var(enc)\n",
    "        z = self.reparameterize(mu, log_var)\n",
    "        return self.decoder(z), mu, log_var\n",
    "\n",
    "    def sample(self, n_samples):\n",
    "        with torch.no_grad():\n",
    "            z = torch.randn(n_samples, latent_dim)\n",
    "            return self.decoder(z).numpy()"
   ]
  },
  {
   "cell_type": "code",
   "execution_count": 5,
   "id": "047764b1-0b17-4a5e-920d-6f24e52b7e50",
   "metadata": {},
   "outputs": [
    {
     "name": "stdout",
     "output_type": "stream",
     "text": [
      "Epoch 0, Loss: 1.7347\n",
      "Epoch 50, Loss: 0.8792\n",
      "Epoch 99, Loss: 0.8305\n",
      "Epoch 0, Loss: 1.2930\n",
      "Epoch 50, Loss: 0.8086\n",
      "Epoch 99, Loss: 0.7296\n",
      "Epoch 0, Loss: 1.4223\n",
      "Epoch 50, Loss: 0.8986\n",
      "Epoch 99, Loss: 0.7659\n",
      "Epoch 0, Loss: 1.3967\n",
      "Epoch 50, Loss: 0.8136\n",
      "Epoch 99, Loss: 0.6992\n"
     ]
    },
    {
     "data": {
      "image/png": "[encoded data removed]",
      "text/plain": [
       "<Figure size 640x480 with 1 Axes>"
      ]
     },
     "metadata": {},
     "output_type": "display_data"
    }
   ],
   "source": [
    "latent_dims = [2, 3, 4, 5]  \n",
    "reconstruction_losses = []\n",
    "epochs_num = 100\n",
    "\n",
    "for latent_dim in latent_dims:\n",
    "    vae = VAE(input_dim=data_scaled.shape[1], latent_dim=latent_dim)  \n",
    "    optimizer = optim.Adam(vae.parameters(), lr=0.001)\n",
    "    # optimizer = optim.AdamW(vae.parameters(), lr=0.001, weight_decay=1e-5)\n",
    "    loss_fn = nn.MSELoss()\n",
    "    # loss_fn = nn.SmoothL1Loss()\n",
    "\n",
    "    for epoch in range(epochs_num):  \n",
    "        x = torch.tensor(data_scaled, dtype=torch.float32)\n",
    "        optimizer.zero_grad()\n",
    "        x_recon, mu, log_var = vae(x)\n",
    "        recon_loss = loss_fn(x_recon, x)\n",
    "        beta = min(0.1 + 0.01 * epoch, 0.5)\n",
    "        kl_loss = -0.5 * torch.mean(1 + log_var - mu.pow(2) - log_var.exp())\n",
    "        loss = recon_loss + beta * kl_loss\n",
    "        loss.backward()\n",
    "        optimizer.step()\n",
    "        if epoch % 50 == 0 or epoch==epochs_num-1:\n",
    "            print(f\"Epoch {epoch}, Loss: {loss.item():.4f}\")\n",
    "\n",
    "    reconstruction_losses.append(loss.item())\n",
    "\n",
    "plt.plot(latent_dims, reconstruction_losses, marker='o', linestyle='-')\n",
    "plt.xlabel(\"Latent Dimension\")\n",
    "plt.ylabel(\"Reconstruction Loss\")\n",
    "plt.title(\"Choosing Optimal Latent Dimension\")\n",
    "plt.show()\n"
   ]
  },
  {
   "cell_type": "code",
   "execution_count": 6,
   "id": "7a5e5e0e-ab0a-44aa-b206-b965d7f2641b",
   "metadata": {},
   "outputs": [],
   "source": [
    "# Training VAE\n",
    "input_dim = data_scaled.shape[1]\n",
    "latent_dim = 5  # From checking, I got 5 to be the better latent dimension.\n",
    "vae = VAE(input_dim, latent_dim)\n",
    "# optimizer = optim.AdamW(vae.parameters(), lr=0.001, weight_decay=1e-5)\n",
    "optimizer = optim.Adam(vae.parameters(), lr=0.001)\n",
    "# loss_fn = nn.SmoothL1Loss()\n",
    "loss_fn = nn.MSELoss()"
   ]
  },
  {
   "cell_type": "code",
   "execution_count": 7,
   "id": "df2d8ffd-1886-4e6e-8420-2b20dcef6168",
   "metadata": {},
   "outputs": [],
   "source": [
    "def train_vae(epochs=epochs_num):\n",
    "    vae.train()\n",
    "    for epoch in range(epochs):\n",
    "        x = torch.tensor(data_scaled, dtype=torch.float32)\n",
    "        optimizer.zero_grad()\n",
    "        x_recon, mu, log_var = vae(x)\n",
    "        recon_loss = loss_fn(x_recon, x)\n",
    "        beta = min(0.1 + 0.01 * epoch, 0.5)\n",
    "        kl_loss = -0.5 * torch.mean(1 + log_var - mu.pow(2) - log_var.exp())\n",
    "        loss = recon_loss + 0.1 * kl_loss \n",
    "        loss.backward()\n",
    "        optimizer.step()\n",
    "        if epoch % 50 == 0 or epoch == epochs-1:\n",
    "            print(f\"Epoch {epoch}, Loss: {loss.item():.4f}\")"
   ]
  },
  {
   "cell_type": "code",
   "execution_count": 8,
   "id": "7f2cab5c-18c5-4470-9f73-09d0ebbc294a",
   "metadata": {},
   "outputs": [
    {
     "name": "stdout",
     "output_type": "stream",
     "text": [
      "Epoch 0, Loss: 1.5445\n",
      "Epoch 50, Loss: 0.5860\n",
      "Epoch 100, Loss: 0.4546\n",
      "Epoch 150, Loss: 0.3828\n",
      "Epoch 200, Loss: 0.3267\n",
      "Epoch 250, Loss: 0.2936\n",
      "Epoch 300, Loss: 0.2647\n",
      "Epoch 350, Loss: 0.2454\n",
      "Epoch 399, Loss: 0.2291\n"
     ]
    }
   ],
   "source": [
    "train_vae(epochs=400)"
   ]
  },
  {
   "cell_type": "code",
   "execution_count": 9,
   "id": "d186cb54-2f93-4c5b-9658-02c96951f6ec",
   "metadata": {},
   "outputs": [],
   "source": [
    "# Get Latent Representations\n",
    "vae.eval()\n",
    "x = torch.tensor(data_scaled, dtype=torch.float32)\n",
    "_, mu, _ = vae(x)\n",
    "latent_data = mu.detach().numpy()"
   ]
  },
  {
   "cell_type": "code",
   "execution_count": 10,
   "id": "36204cfc-1d80-4121-bded-0b1e7ea2d4f8",
   "metadata": {},
   "outputs": [],
   "source": [
    "# Elbow Method to Determine k\n",
    "from kneed import KneeLocator\n",
    "\n",
    "inertia = []\n",
    "k_values = range(1, 11)\n",
    "for k in k_values:\n",
    "    kmeans = KMeans(n_clusters=k, random_state=0).fit(latent_data)\n",
    "    inertia.append(kmeans.inertia_)"
   ]
  },
  {
   "cell_type": "code",
   "execution_count": 11,
   "id": "674eff7a-3303-4034-bb5f-74f288813c80",
   "metadata": {},
   "outputs": [
    {
     "data": {
      "image/png": "[encoded data removed]",
      "text/plain": [
       "<Figure size 800x500 with 1 Axes>"
      ]
     },
     "metadata": {},
     "output_type": "display_data"
    },
    {
     "name": "stdout",
     "output_type": "stream",
     "text": [
      "Optimal k found: 6\n"
     ]
    }
   ],
   "source": [
    "plt.figure(figsize=(8, 5))\n",
    "plt.plot(k_values, inertia, marker='o', linestyle='-')\n",
    "plt.xlabel(\"Number of Clusters (k)\")\n",
    "plt.ylabel(\"Inertia\")\n",
    "plt.title(\"Elbow Method for Optimal k\")\n",
    "plt.show()\n",
    "\n",
    "knee_locator = KneeLocator(k_values, inertia, curve=\"convex\", direction=\"decreasing\")\n",
    "optimal_k = knee_locator.elbow\n",
    "print(f\"Optimal k found: {optimal_k}\")"
   ]
  },
  {
   "cell_type": "code",
   "execution_count": 12,
   "id": "9d1a1482-02cd-4bc8-a561-cc7ac1383d1b",
   "metadata": {},
   "outputs": [],
   "source": [
    "# Apply K-Means\n",
    "# optimal_k = 6  # From above checking, I got 6 to be the better number of clusters\n",
    "kmeans = KMeans(n_clusters=optimal_k, random_state=0).fit(latent_data)\n",
    "labels = kmeans.labels_\n",
    "cluster_centers = kmeans.cluster_centers_"
   ]
  },
  {
   "cell_type": "code",
   "execution_count": 13,
   "id": "c85a33f6-932b-4d34-b90c-f45da04f15f3",
   "metadata": {},
   "outputs": [
    {
     "name": "stdout",
     "output_type": "stream",
     "text": [
      "Cluster Sizes:\n",
      "Cluster 0: 234 points\n",
      "Cluster 1: 121 points\n",
      "Cluster 2: 208 points\n",
      "Cluster 3: 126 points\n",
      "Cluster 4: 247 points\n",
      "Cluster 5: 263 points\n"
     ]
    }
   ],
   "source": [
    "# Identifying the outliers:\n",
    "# Small clusters have been considered as those which have their size less than 50.\n",
    "# For big clusters, we have taken boundary points as those which are outside 95% away from the cluster's center.\n",
    "\n",
    "clusters, counts = np.unique(labels, return_counts=True)\n",
    "\n",
    "print(\"Cluster Sizes:\")\n",
    "for cluster, count in zip(clusters, counts):\n",
    "    print(f\"Cluster {cluster}: {count} points\")\n",
    "\n",
    "small_clusters = clusters[counts < 50]\n",
    "\n",
    "boundary_points = []\n",
    "small_cluster_points = []\n",
    "\n",
    "for i, label in enumerate(labels):\n",
    "    if label in small_clusters:\n",
    "        small_cluster_points.append(i)  \n",
    "    else:\n",
    "        point_dist = np.linalg.norm(latent_data[i] - cluster_centers[label])\n",
    "        all_dists = np.linalg.norm(latent_data[labels == label] - cluster_centers[label], axis=1)\n",
    "        \n",
    "        # Boundary points: Points which are outside 95% of the distance\n",
    "        if point_dist > np.percentile(all_dists, 95):\n",
    "            boundary_points.append(i)  \n",
    "\n",
    "# print(\"Boundary Points Row Numbers:\", boundary_points)\n",
    "# print(\"Small Cluster Points Row Numbers:\", small_cluster_points)"
   ]
  },
  {
   "cell_type": "code",
   "execution_count": 14,
   "id": "81573105-c29c-4c2d-a528-598964b6ef62",
   "metadata": {},
   "outputs": [
    {
     "name": "stdout",
     "output_type": "stream",
     "text": [
      "\n",
      "=== Boundary Points from big clusters ===\n",
      "          cov1      cov2      cov3      cov4      cov5      cov6      cov7  sal_pur_rat  igst_itc_tot_itc_rat  lib_igst_itc_rat\n",
      "2     0.947603  0.455667  0.001743  0.128610 -0.004054 -0.162069  0.960601    -0.030209              1.535697         -0.054215\n",
      "5     0.595378 -0.531958  0.679654 -0.126799  0.455487  0.432046  0.988092    -0.029813              0.768742         -0.054167\n",
      "13    0.825371 -0.248244  0.220238  0.128478  0.383093  0.364443  0.951265    -0.030247              1.512327         -0.054221\n",
      "18    0.948575  0.464917  0.366662  0.515506  0.064824 -0.192308  0.997203    -0.031555              1.838233         -0.054304\n",
      "25    0.310202  0.714827  0.999397  0.450586  0.999196  0.951493  0.994530     3.957174             -0.567733         -0.042841\n",
      "45    0.188614  0.031166  0.832167  0.342503 -0.153480  0.824574  0.152444    -0.013936             -0.296467         -0.052397\n",
      "53    0.999971  0.801451  0.450078  0.296673 -0.671271  0.221535  0.935767    -0.032791              0.313554         -0.054196\n",
      "60    0.995746  0.943895 -0.294339 -0.409825 -0.546041  0.567263  0.850460    -0.032687              0.143176         -0.054144\n",
      "65    0.989749  0.939645  0.973857  0.944348  0.450608 -0.020708  0.958587     0.022532              0.704163         -0.053252\n",
      "72    0.998746  0.212017 -0.063191  0.101606  0.328125  0.497050  0.994448    -0.032126              1.445437         -0.054300\n",
      "102   0.999988  0.998002 -0.263647 -0.279467  0.000000  0.490375  0.356098    -0.033177             -1.066401          7.486296\n",
      "106  -0.133945  0.283608  0.970914 -0.171278  0.000000  0.976835  0.905625    -0.030864             -0.375026         -0.053857\n",
      "116   0.996294  0.936644  0.942416  0.892207  0.416943  0.004257  0.940807    -0.021392              0.283056         -0.053187\n",
      "124   0.946262  0.741639 -0.122708 -0.149332 -0.450775  0.507202  0.880061    -0.031580              0.924464         -0.054280\n",
      "138   0.999163  0.999993  0.743275  0.750927  0.000000 -0.459238  0.880631    -0.030943              1.583726         -0.054258\n",
      "160   0.999347  0.969439  0.084767  0.151435  0.000000 -0.091304  0.004396    -0.032430             -1.063559          0.109207\n",
      "161   0.999999  0.973877  0.270032  0.223560  0.000000  0.066139 -0.225197    -0.030177             -0.962634         -0.047378\n",
      "168   0.907334  0.986871  0.403606 -0.018537  0.000000  0.079338  0.249307    -0.032239             -1.000277         -0.046231\n",
      "177   0.913044  0.993652  0.495064  0.595524  0.661698  0.707592  0.993330    -0.032280              1.866162         -0.054325\n",
      "201   0.033564 -0.146953 -0.142238 -0.215256 -0.133407  0.653039  0.547611    -0.029229             -0.849317         -0.052171\n",
      "202   1.000000  0.903017 -0.665221 -0.674896  0.000000  0.947314  0.591421    -0.032109             -1.066436         33.188277\n",
      "213   0.968639  0.987501  0.821807  0.740876  0.000000 -0.164718  0.517192    -0.031127             -0.692171         -0.052769\n",
      "225   0.729880  0.987338  0.502494  0.427280  0.000000 -0.412246  0.998549    -0.032672              2.109923         -0.054356\n",
      "233   0.998990  0.725474 -0.333254 -0.354830 -0.183836  0.131956  0.509740    -0.032411             -0.429788         -0.053754\n",
      "248   0.999991  0.900182 -0.793428 -0.777158  0.000000  0.656264  0.093283    -0.033191             -0.852278         -0.052728\n",
      "249   1.000000  0.856922  0.823258  0.497245  0.000000  0.591521  0.021841    -0.029940             -1.066299          4.959007\n",
      "251   0.999778  0.938575  0.407715  0.469158 -0.719622 -0.682734  0.989535    -0.033599              1.397712         -0.054371\n",
      "278   0.809370  0.913733  0.500696  0.563106  0.557942  0.270214  0.999991    -0.034272              2.164212         -0.054435\n",
      "296   0.999995  0.394505  0.000000  0.000000  0.000000 -0.458461  0.068400    -0.031696             -0.943973         -0.049939\n",
      "308  -0.166308  0.537869  0.177641  0.320768 -0.275142  0.393301  0.936062     0.011202              1.120954         -0.054245\n",
      "356   0.999983  1.000000  0.878975  0.878308  0.000000 -0.233162  0.645662    -0.006128             -0.522472         -0.047875\n",
      "378   1.000000  0.985049 -0.818128 -0.839158  0.000000  0.943767  0.589556    -0.032756             -0.969197         -0.050059\n",
      "383   0.983083  1.000000 -0.417261 -0.348643  0.000000  0.007628  0.013886    -0.034129             -0.977304         -0.050602\n",
      "416   1.000000  0.937775  0.518851  0.498893  0.000000 -0.480075  0.078438    -0.031209             -1.064084          0.205998\n",
      "462  -0.312219  0.993686  0.546496 -0.083316  0.000000  0.317602  0.633745    -0.009160             -0.790955         -0.052700\n",
      "492   0.990779  0.999023 -0.743153 -0.792628 -0.401923  0.848454  0.894657    -0.033177              0.460462         -0.054247\n",
      "495   0.937190  0.998131 -0.289857 -0.579922 -0.535282 -0.099784  0.999547    -0.033258              2.126933         -0.054385\n",
      "544   0.993797  0.626927  0.533724  0.078995 -0.421030  0.968341  0.054833    -0.032082             -1.046099         -0.028653\n",
      "556   0.936705  0.730814 -0.137128 -0.203968  0.000000 -0.043827  0.588258    -0.032106             -0.951176         -0.049528\n",
      "558   0.998720  0.937802  0.852196  0.723002 -0.362788  0.554720  0.817692    -0.032296             -0.529022         -0.053589\n",
      "559   0.999995  0.999789  0.820507  0.819809  0.000000  0.477295 -0.641931    -0.032637             -0.682291         -0.053340\n",
      "564   0.999991  0.985618  0.521109  0.517412  0.000000 -0.264617  0.331915    -0.032833              0.632495         -0.054257\n",
      "579   0.999665  0.999687  0.742898  0.736978  0.000000 -0.199314  0.293745    -0.032287             -0.136891         -0.053980\n",
      "590   0.935332  0.994236  0.554837  0.554199  0.000000 -0.175750  0.487344    -0.032483             -0.991349         -0.048398\n",
      "591   0.245619  0.999049  0.300700 -0.059870  0.000000  0.793884  0.786821    34.367195              0.391459         -0.054193\n",
      "603   0.999075  0.998665  0.221312  0.216898 -0.709599  0.906405  0.960929    -0.032578              1.303369         -0.054316\n",
      "606   0.752158  0.443502  0.000000  0.000000  0.000000  0.710299 -0.330908    -0.033128             -1.066153          1.340107\n",
      "617   0.779312  0.924756  0.376765  0.024213  0.000000 -0.253367  0.938624    -0.033672              0.533353         -0.054281\n",
      "634   1.000000  0.973775  0.000000  0.000000  0.000000  0.139212 -0.370801    -0.031962             -1.065460          0.476889\n",
      "719   0.995573  1.000000 -0.499830 -0.469569  0.000000  0.817349 -0.859529    -0.033682             -1.061556          0.033165\n",
      "727   0.999814  0.999847 -0.142689 -0.150315 -0.585397  0.786954  0.136990    -0.032751              0.239111         -0.054174\n",
      "742   1.000000  0.758236  0.520414  0.052706 -0.473722  0.947093  0.709609    -0.032642             -0.647499         -0.053441\n",
      "758   1.000000  1.000000 -0.119516 -0.119513  0.000000 -0.334804  0.855163    -0.032522             -0.620944         -0.053473\n",
      "816   0.999953  0.999987 -0.254486 -0.257876  0.000000  0.992984 -0.714136    -0.032657             -0.529335         -0.053678\n",
      "834   0.999861  0.998006 -0.625201 -0.644975  0.000000 -0.626728  0.143720    -0.032908              0.702145         -0.054270\n",
      "859   0.988302  0.899342  0.507492  0.467459  0.000000 -0.511736  0.940332    -0.033288              0.163180         -0.054198\n",
      "866   0.999428  0.822074  0.400275  0.325327  0.000000 -0.248904 -0.230404    -0.031192             -1.025085         -0.039506\n",
      "874   0.996589  0.999892  0.902333  0.880036  0.000000  0.871109 -0.520048    -0.031821             -1.064662          0.270302\n",
      "932   0.826183  1.000000  0.149461 -0.105047  0.000000  0.624052 -0.430079    -0.031100             -1.053800         -0.001910\n",
      "940   1.000000  0.999355 -0.161472 -0.165730  0.000000 -0.123388 -0.077092    -0.035115             -0.988122         -0.052575\n",
      "996   0.998851  0.959415  0.551929  0.546367  0.605376  0.495742  0.805618    -0.032820              1.435093         -0.054339\n",
      "1024  0.996287  0.943707  0.637786  0.435098 -0.598050  0.853106  0.445108    -0.030675             -0.441364         -0.053432\n",
      "1063  1.000000  0.991599  0.844219  0.823941  0.000000 -0.081792 -0.190562    -0.028441             -1.045474         -0.009374\n",
      "\n",
      "=== Small Cluster Points ===\n",
      "Empty DataFrame\n",
      "Columns: [cov1, cov2, cov3, cov4, cov5, cov6, cov7, sal_pur_rat, igst_itc_tot_itc_rat, lib_igst_itc_rat]\n",
      "Index: []\n"
     ]
    }
   ],
   "source": [
    "boundary_df = df.iloc[boundary_points]\n",
    "small_cluster_df = df.iloc[small_cluster_points]\n",
    "\n",
    "print(\"\\n=== Boundary Points from big clusters ===\")\n",
    "print(boundary_df.to_string(index=True))\n",
    "\n",
    "print(\"\\n=== Small Cluster Points ===\")\n",
    "print(small_cluster_df.to_string(index=True))"
   ]
  }
 ],
 "metadata": {
  "kernelspec": {
   "display_name": "Python 3 (ipykernel)",
   "language": "python",
   "name": "python3"
  },
  "language_info": {
   "codemirror_mode": {
    "name": "ipython",
    "version": 3
   },
   "file_extension": ".py",
   "mimetype": "text/x-python",
   "name": "python",
   "nbconvert_exporter": "python",
   "pygments_lexer": "ipython3",
   "version": "3.10.12"
  }
 },
 "nbformat": 4,
 "nbformat_minor": 5
}
