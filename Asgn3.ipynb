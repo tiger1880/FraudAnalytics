{
 "cells": [
  {
   "cell_type": "code",
   "execution_count": 1,
   "id": "ec89f0f4-c3c9-439f-80b1-13ca4a39a608",
   "metadata": {},
   "outputs": [],
   "source": [
    "import numpy as np\n",
    "import pandas as pd\n",
    "import matplotlib.pyplot as plt\n",
    "import seaborn as sns\n",
    "import torch\n",
    "import torch.nn as nn\n",
    "import torch.optim as optim\n",
    "from sklearn.cluster import KMeans\n",
    "from sklearn.preprocessing import StandardScaler\n",
    "from scipy.spatial.distance import cdist"
   ]
  },
  {
   "cell_type": "code",
   "execution_count": 2,
   "id": "4f5be68a-7dc2-4b11-8685-ed304a3f0fab",
   "metadata": {},
   "outputs": [
    {
     "data": {
      "text/html": [
       "<div>\n",
       "<style scoped>\n",
       "    .dataframe tbody tr th:only-of-type {\n",
       "        vertical-align: middle;\n",
       "    }\n",
       "\n",
       "    .dataframe tbody tr th {\n",
       "        vertical-align: top;\n",
       "    }\n",
       "\n",
       "    .dataframe thead th {\n",
       "        text-align: right;\n",
       "    }\n",
       "</style>\n",
       "<table border=\"1\" class=\"dataframe\">\n",
       "  <thead>\n",
       "    <tr style=\"text-align: right;\">\n",
       "      <th></th>\n",
       "      <th>cov1</th>\n",
       "      <th>cov2</th>\n",
       "      <th>cov3</th>\n",
       "      <th>cov4</th>\n",
       "      <th>cov5</th>\n",
       "      <th>cov6</th>\n",
       "      <th>cov7</th>\n",
       "      <th>sal_pur_rat</th>\n",
       "      <th>igst_itc_tot_itc_rat</th>\n",
       "      <th>lib_igst_itc_rat</th>\n",
       "    </tr>\n",
       "  </thead>\n",
       "  <tbody>\n",
       "    <tr>\n",
       "      <th>0</th>\n",
       "      <td>0.997797</td>\n",
       "      <td>0.999888</td>\n",
       "      <td>0.215934</td>\n",
       "      <td>0.196713</td>\n",
       "      <td>0.000000</td>\n",
       "      <td>0.955616</td>\n",
       "      <td>0.998810</td>\n",
       "      <td>-0.032581</td>\n",
       "      <td>1.761759</td>\n",
       "      <td>-0.054329</td>\n",
       "    </tr>\n",
       "    <tr>\n",
       "      <th>1</th>\n",
       "      <td>0.994004</td>\n",
       "      <td>0.979902</td>\n",
       "      <td>-0.337135</td>\n",
       "      <td>-0.248634</td>\n",
       "      <td>0.000000</td>\n",
       "      <td>0.640812</td>\n",
       "      <td>0.553918</td>\n",
       "      <td>-0.032026</td>\n",
       "      <td>-0.629311</td>\n",
       "      <td>-0.053516</td>\n",
       "    </tr>\n",
       "    <tr>\n",
       "      <th>2</th>\n",
       "      <td>0.947603</td>\n",
       "      <td>0.455667</td>\n",
       "      <td>0.001743</td>\n",
       "      <td>0.128610</td>\n",
       "      <td>-0.004054</td>\n",
       "      <td>-0.162069</td>\n",
       "      <td>0.960601</td>\n",
       "      <td>-0.030209</td>\n",
       "      <td>1.535697</td>\n",
       "      <td>-0.054215</td>\n",
       "    </tr>\n",
       "    <tr>\n",
       "      <th>3</th>\n",
       "      <td>0.396577</td>\n",
       "      <td>0.919933</td>\n",
       "      <td>0.496451</td>\n",
       "      <td>0.576824</td>\n",
       "      <td>-0.340718</td>\n",
       "      <td>0.802363</td>\n",
       "      <td>0.673710</td>\n",
       "      <td>-0.032058</td>\n",
       "      <td>0.449160</td>\n",
       "      <td>-0.054126</td>\n",
       "    </tr>\n",
       "    <tr>\n",
       "      <th>4</th>\n",
       "      <td>0.999893</td>\n",
       "      <td>0.327615</td>\n",
       "      <td>0.700477</td>\n",
       "      <td>0.315601</td>\n",
       "      <td>0.000000</td>\n",
       "      <td>0.300785</td>\n",
       "      <td>0.979009</td>\n",
       "      <td>-0.032224</td>\n",
       "      <td>1.762049</td>\n",
       "      <td>-0.054330</td>\n",
       "    </tr>\n",
       "  </tbody>\n",
       "</table>\n",
       "</div>"
      ],
      "text/plain": [
       "       cov1      cov2      cov3      cov4      cov5      cov6      cov7  \\\n",
       "0  0.997797  0.999888  0.215934  0.196713  0.000000  0.955616  0.998810   \n",
       "1  0.994004  0.979902 -0.337135 -0.248634  0.000000  0.640812  0.553918   \n",
       "2  0.947603  0.455667  0.001743  0.128610 -0.004054 -0.162069  0.960601   \n",
       "3  0.396577  0.919933  0.496451  0.576824 -0.340718  0.802363  0.673710   \n",
       "4  0.999893  0.327615  0.700477  0.315601  0.000000  0.300785  0.979009   \n",
       "\n",
       "   sal_pur_rat  igst_itc_tot_itc_rat  lib_igst_itc_rat  \n",
       "0    -0.032581              1.761759         -0.054329  \n",
       "1    -0.032026             -0.629311         -0.053516  \n",
       "2    -0.030209              1.535697         -0.054215  \n",
       "3    -0.032058              0.449160         -0.054126  \n",
       "4    -0.032224              1.762049         -0.054330  "
      ]
     },
     "execution_count": 2,
     "metadata": {},
     "output_type": "execute_result"
    }
   ],
   "source": [
    "df = pd.read_csv(\"data.csv\")\n",
    "df.head()"
   ]
  },
  {
   "cell_type": "code",
   "execution_count": 3,
   "id": "603f5dd9-5ec2-425d-bb7d-04d983fde4b7",
   "metadata": {},
   "outputs": [],
   "source": [
    "scaler = StandardScaler()\n",
    "data_scaled = scaler.fit_transform(df)"
   ]
  },
  {
   "cell_type": "code",
   "execution_count": 4,
   "id": "198d0173-7fe0-475b-8682-201080525496",
   "metadata": {},
   "outputs": [],
   "source": [
    "# VAE Model\n",
    "class VAE(nn.Module):\n",
    "    def __init__(self, input_dim, latent_dim):\n",
    "        super(VAE, self).__init__()\n",
    "        self.encoder = nn.Sequential(\n",
    "            nn.Linear(input_dim, 32),\n",
    "            nn.LeakyReLU(0.2),\n",
    "            nn.BatchNorm1d(32),\n",
    "            nn.Linear(32, 16),\n",
    "            nn.LeakyReLU(0.2),\n",
    "            nn.BatchNorm1d(16)\n",
    "        )\n",
    "        self.mu = nn.Linear(16, latent_dim)\n",
    "        self.log_var = nn.Linear(16, latent_dim)\n",
    "        \n",
    "        self.decoder = nn.Sequential(\n",
    "            nn.Linear(latent_dim, 16),\n",
    "            nn.LeakyReLU(0.2),\n",
    "            nn.BatchNorm1d(16),\n",
    "            nn.Linear(16, 32),\n",
    "            nn.LeakyReLU(0.2),\n",
    "            nn.BatchNorm1d(32),\n",
    "            nn.Linear(32, input_dim)\n",
    "        )\n",
    "    \n",
    "    def reparameterize(self, mu, log_var):\n",
    "        std = torch.exp(0.5 * log_var)\n",
    "        eps = torch.randn_like(std)\n",
    "        return mu + eps * std\n",
    "    \n",
    "    def forward(self, x):\n",
    "        enc = self.encoder(x)\n",
    "        mu, log_var = self.mu(enc), self.log_var(enc)\n",
    "        z = self.reparameterize(mu, log_var)\n",
    "        return self.decoder(z), mu, log_var"
   ]
  },
  {
   "cell_type": "code",
   "execution_count": 5,
   "id": "047764b1-0b17-4a5e-920d-6f24e52b7e50",
   "metadata": {},
   "outputs": [
    {
     "name": "stdout",
     "output_type": "stream",
     "text": [
      "Epoch 0, Loss: 1.4763\n",
      "Epoch 10, Loss: 1.1126\n",
      "Epoch 20, Loss: 0.9889\n",
      "Epoch 30, Loss: 0.9501\n",
      "Epoch 40, Loss: 0.9186\n",
      "Epoch 50, Loss: 0.8902\n",
      "Epoch 60, Loss: 0.8457\n",
      "Epoch 70, Loss: 0.8310\n",
      "Epoch 80, Loss: 0.8035\n",
      "Epoch 90, Loss: 0.7545\n",
      "Epoch 99, Loss: 0.7268\n",
      "Epoch 0, Loss: 1.5104\n",
      "Epoch 10, Loss: 1.1711\n",
      "Epoch 20, Loss: 1.0509\n",
      "Epoch 30, Loss: 0.9543\n",
      "Epoch 40, Loss: 0.8988\n",
      "Epoch 50, Loss: 0.8273\n",
      "Epoch 60, Loss: 0.7856\n",
      "Epoch 70, Loss: 0.7635\n",
      "Epoch 80, Loss: 0.7196\n",
      "Epoch 90, Loss: 0.7047\n",
      "Epoch 99, Loss: 0.6766\n",
      "Epoch 0, Loss: 2.8415\n",
      "Epoch 10, Loss: 1.1193\n",
      "Epoch 20, Loss: 1.0157\n",
      "Epoch 30, Loss: 0.9810\n",
      "Epoch 40, Loss: 0.9376\n",
      "Epoch 50, Loss: 0.8586\n",
      "Epoch 60, Loss: 0.8311\n",
      "Epoch 70, Loss: 0.8158\n",
      "Epoch 80, Loss: 0.7604\n",
      "Epoch 90, Loss: 0.7375\n",
      "Epoch 99, Loss: 0.7059\n",
      "Epoch 0, Loss: 1.3926\n",
      "Epoch 10, Loss: 1.0792\n",
      "Epoch 20, Loss: 0.9448\n",
      "Epoch 30, Loss: 0.8676\n",
      "Epoch 40, Loss: 0.8163\n",
      "Epoch 50, Loss: 0.7613\n",
      "Epoch 60, Loss: 0.7215\n",
      "Epoch 70, Loss: 0.6796\n",
      "Epoch 80, Loss: 0.6582\n",
      "Epoch 90, Loss: 0.6361\n",
      "Epoch 99, Loss: 0.6016\n"
     ]
    },
    {
     "data": {
      "image/png": "[encoded data removed]",
      "text/plain": [
       "<Figure size 640x480 with 1 Axes>"
      ]
     },
     "metadata": {},
     "output_type": "display_data"
    }
   ],
   "source": [
    "latent_dims = [2, 3, 4, 5]  \n",
    "reconstruction_losses = []\n",
    "\n",
    "for latent_dim in latent_dims:\n",
    "    vae = VAE(input_dim=data_scaled.shape[1], latent_dim=latent_dim)  \n",
    "    optimizer = optim.Adam(vae.parameters(), lr=0.001)\n",
    "    # optimizer = optim.AdamW(vae.parameters(), lr=0.001, weight_decay=1e-5)\n",
    "    loss_fn = nn.MSELoss()\n",
    "    # loss_fn = nn.SmoothL1Loss()\n",
    "\n",
    "    for epoch in range(100):  \n",
    "        x = torch.tensor(data_scaled, dtype=torch.float32)\n",
    "        optimizer.zero_grad()\n",
    "        x_recon, mu, log_var = vae(x)\n",
    "        recon_loss = loss_fn(x_recon, x)\n",
    "        kl_loss = -0.5 * torch.mean(1 + log_var - mu.pow(2) - log_var.exp())\n",
    "        loss = recon_loss + 0.1 * kl_loss\n",
    "        loss.backward()\n",
    "        optimizer.step()\n",
    "        if epoch % 10 == 0 or epoch==99:\n",
    "            print(f\"Epoch {epoch}, Loss: {loss.item():.4f}\")\n",
    "\n",
    "    reconstruction_losses.append(loss.item())\n",
    "\n",
    "plt.plot(latent_dims, reconstruction_losses, marker='o', linestyle='-')\n",
    "plt.xlabel(\"Latent Dimension\")\n",
    "plt.ylabel(\"Reconstruction Loss\")\n",
    "plt.title(\"Choosing Optimal Latent Dimension\")\n",
    "plt.show()\n"
   ]
  },
  {
   "cell_type": "code",
   "execution_count": 6,
   "id": "7a5e5e0e-ab0a-44aa-b206-b965d7f2641b",
   "metadata": {},
   "outputs": [],
   "source": [
    "# Training VAE\n",
    "input_dim = data_scaled.shape[1]\n",
    "latent_dim = 4  # From checking, I got 4 to be the better latent dimension.\n",
    "vae = VAE(input_dim, latent_dim)\n",
    "# optimizer = optim.AdamW(vae.parameters(), lr=0.001, weight_decay=1e-5)\n",
    "optimizer = optim.Adam(vae.parameters(), lr=0.001)\n",
    "# loss_fn = nn.SmoothL1Loss()\n",
    "loss_fn = nn.MSELoss()"
   ]
  },
  {
   "cell_type": "code",
   "execution_count": 7,
   "id": "df2d8ffd-1886-4e6e-8420-2b20dcef6168",
   "metadata": {},
   "outputs": [],
   "source": [
    "def train_vae(epochs=100):\n",
    "    vae.train()\n",
    "    for epoch in range(epochs):\n",
    "        x = torch.tensor(data_scaled, dtype=torch.float32)\n",
    "        optimizer.zero_grad()\n",
    "        x_recon, mu, log_var = vae(x)\n",
    "        recon_loss = loss_fn(x_recon, x)\n",
    "        kl_loss = -0.5 * torch.mean(1 + log_var - mu.pow(2) - log_var.exp())\n",
    "        loss = recon_loss + 0.1 * kl_loss \n",
    "        loss.backward()\n",
    "        optimizer.step()\n",
    "        if epoch % 10 == 0 or epoch == 99:\n",
    "            print(f\"Epoch {epoch}, Loss: {loss.item():.4f}\")"
   ]
  },
  {
   "cell_type": "code",
   "execution_count": 8,
   "id": "7f2cab5c-18c5-4470-9f73-09d0ebbc294a",
   "metadata": {},
   "outputs": [
    {
     "name": "stdout",
     "output_type": "stream",
     "text": [
      "Epoch 0, Loss: 1.3984\n",
      "Epoch 10, Loss: 1.0609\n",
      "Epoch 20, Loss: 0.9288\n",
      "Epoch 30, Loss: 0.8532\n",
      "Epoch 40, Loss: 0.8064\n",
      "Epoch 50, Loss: 0.7554\n",
      "Epoch 60, Loss: 0.7077\n",
      "Epoch 70, Loss: 0.6682\n",
      "Epoch 80, Loss: 0.6353\n",
      "Epoch 90, Loss: 0.6064\n",
      "Epoch 99, Loss: 0.5795\n"
     ]
    }
   ],
   "source": [
    "train_vae()"
   ]
  },
  {
   "cell_type": "code",
   "execution_count": 9,
   "id": "d186cb54-2f93-4c5b-9658-02c96951f6ec",
   "metadata": {},
   "outputs": [],
   "source": [
    "# Get Latent Representations\n",
    "vae.eval()\n",
    "x = torch.tensor(data_scaled, dtype=torch.float32)\n",
    "_, mu, _ = vae(x)\n",
    "latent_data = mu.detach().numpy()"
   ]
  },
  {
   "cell_type": "code",
   "execution_count": 10,
   "id": "36204cfc-1d80-4121-bded-0b1e7ea2d4f8",
   "metadata": {},
   "outputs": [],
   "source": [
    "# Elbow Method to Determine k\n",
    "from kneed import KneeLocator\n",
    "\n",
    "inertia = []\n",
    "k_values = range(1, 11)\n",
    "for k in k_values:\n",
    "    kmeans = KMeans(n_clusters=k, random_state=0).fit(latent_data)\n",
    "    inertia.append(kmeans.inertia_)"
   ]
  },
  {
   "cell_type": "code",
   "execution_count": 11,
   "id": "674eff7a-3303-4034-bb5f-74f288813c80",
   "metadata": {},
   "outputs": [
    {
     "data": {
      "image/png": "[encoded data removed]",
      "text/plain": [
       "<Figure size 800x500 with 1 Axes>"
      ]
     },
     "metadata": {},
     "output_type": "display_data"
    },
    {
     "name": "stdout",
     "output_type": "stream",
     "text": [
      "Optimal k found: 4\n"
     ]
    }
   ],
   "source": [
    "plt.figure(figsize=(8, 5))\n",
    "plt.plot(k_values, inertia, marker='o', linestyle='-')\n",
    "plt.xlabel(\"Number of Clusters (k)\")\n",
    "plt.ylabel(\"Inertia\")\n",
    "plt.title(\"Elbow Method for Optimal k\")\n",
    "plt.show()\n",
    "\n",
    "knee_locator = KneeLocator(k_values, inertia, curve=\"convex\", direction=\"decreasing\")\n",
    "optimal_k = knee_locator.elbow\n",
    "print(f\"Optimal k found: {optimal_k}\")"
   ]
  },
  {
   "cell_type": "code",
   "execution_count": 12,
   "id": "9d1a1482-02cd-4bc8-a561-cc7ac1383d1b",
   "metadata": {},
   "outputs": [],
   "source": [
    "# Apply K-Means\n",
    "optimal_k = 3  # From above checking, I got 3 to be the better number of clusters\n",
    "kmeans = KMeans(n_clusters=optimal_k, random_state=0).fit(latent_data)\n",
    "labels = kmeans.labels_"
   ]
  }
 ],
 "metadata": {
  "kernelspec": {
   "display_name": "Python 3 (ipykernel)",
   "language": "python",
   "name": "python3"
  },
  "language_info": {
   "codemirror_mode": {
    "name": "ipython",
    "version": 3
   },
   "file_extension": ".py",
   "mimetype": "text/x-python",
   "name": "python",
   "nbconvert_exporter": "python",
   "pygments_lexer": "ipython3",
   "version": "3.10.12"
  }
 },
 "nbformat": 4,
 "nbformat_minor": 5
}
